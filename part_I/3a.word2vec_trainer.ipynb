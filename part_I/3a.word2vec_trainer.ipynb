{
 "cells": [
  {
   "cell_type": "code",
   "execution_count": 1,
   "metadata": {
    "id": "zDhXrlsaRHDf"
   },
   "outputs": [],
   "source": [
    "import os\n",
    "import json\n",
    "import numpy as np\n",
    "import pandas as pd\n",
    "import time, logging\n",
    "import gensim\n",
    "from gensim.models import Phrases, KeyedVectors\n",
    "from string import punctuation\n",
    "import re\n",
    "import unicodedata"
   ]
  },
  {
   "cell_type": "code",
   "execution_count": 2,
   "metadata": {
    "id": "42QAakEbRHDi",
    "outputId": "16ed24d2-f1f9-4df4-c7f6-bb44ff2eacb9"
   },
   "outputs": [
    {
     "name": "stdout",
     "output_type": "stream",
     "text": [
      "total 4227312\r\n",
      "drwxr-xr-x  5 rsilvei  ADESI\\Domain Users   160B Jun 21 20:41 \u001b[1m\u001b[36m.\u001b[m\u001b[m\r\n",
      "drwxr-xr-x  6 rsilvei  ADESI\\Domain Users   192B Aug 27 13:51 \u001b[1m\u001b[36m..\u001b[m\u001b[m\r\n",
      "-rw-r--r--  1 rsilvei  ADESI\\Domain Users   522M Jun 21 15:38 tweets_1.txt\r\n",
      "-rw-r--r--  1 rsilvei  ADESI\\Domain Users   341M Jun 21 16:35 tweets_2.txt\r\n",
      "-rw-r--r--  1 rsilvei  ADESI\\Domain Users   1.2G Jun 21 20:41 tweets_3.txt\r\n"
     ]
    }
   ],
   "source": [
    "!ls -lah ../data"
   ]
  },
  {
   "cell_type": "code",
   "execution_count": 1,
   "metadata": {
    "id": "BIocaJrFRHDj"
   },
   "outputs": [],
   "source": [
    "tweet_files = [\n",
    "    'tweets_1.txt',\n",
    "    'tweets_2.txt',\n",
    "    'tweets_3.txt'\n",
    "]"
   ]
  },
  {
   "cell_type": "code",
   "execution_count": 4,
   "metadata": {
    "id": "JJFsZ9hhRHDj",
    "outputId": "c422bca2-db7d-457e-ebc9-cae9589feeb3"
   },
   "outputs": [
    {
     "data": {
      "text/plain": [
       "'tweets_1.txt'"
      ]
     },
     "execution_count": 4,
     "metadata": {},
     "output_type": "execute_result"
    }
   ],
   "source": [
    "tweet_files[0]"
   ]
  },
  {
   "cell_type": "code",
   "execution_count": 5,
   "metadata": {
    "id": "Wv-MrY23RHDj"
   },
   "outputs": [],
   "source": [
    "tweets_data = []\n",
    "for file in tweet_files:\n",
    "    tweets_file = open(os.path.join('../data', file), \"r\")\n",
    "    for line in tweets_file:\n",
    "        try:\n",
    "            tweet = json.loads(line)\n",
    "            tweets_data.append(tweet)\n",
    "        except:\n",
    "            continue"
   ]
  },
  {
   "cell_type": "code",
   "execution_count": 6,
   "metadata": {
    "id": "BYomavehRHDk",
    "outputId": "cb3ac7ff-82ce-4aa8-e5d2-b04c53e795e9"
   },
   "outputs": [
    {
     "name": "stdout",
     "output_type": "stream",
     "text": [
      "354640\n"
     ]
    }
   ],
   "source": [
    "print(len(tweets_data))"
   ]
  },
  {
   "cell_type": "code",
   "execution_count": 7,
   "metadata": {
    "id": "9Wzx12p_RHDk",
    "outputId": "54c7c8ea-1c2e-4f7c-d200-93f791e55d25"
   },
   "outputs": [
    {
     "name": "stdout",
     "output_type": "stream",
     "text": [
      "0 --------------------------------------------------\n",
      "RT @Anitta: 500 mil mortes... é sobre FORA BOLSONARO sim! A favor da democracia, da economia, da saúde,  da educação, do senso COLETIVO\n",
      "pt\n",
      "False\n",
      "1 --------------------------------------------------\n",
      "RT @GilDoVigor: Muitos me questionam quando a crise vai acabar e o Brasil voltar a crescer, portanto decidi responder: QUANDO O BOLSONARO E…\n",
      "pt\n",
      "False\n",
      "2 --------------------------------------------------\n",
      "@felipeneto Falar sobre politica não é dizer o que as pessoas querem ouvir e pedem não, vocês acham mesmo que vão d… https://t.co/GU2XPGIeWn\n",
      "pt\n",
      "True\n",
      "3 --------------------------------------------------\n",
      "Meu pai tomou a primeira dose da vacina '=='\n",
      "pt\n",
      "False\n",
      "4 --------------------------------------------------\n",
      "RT @depretas: umas crianças = meus filhos 🤡🤡🤡\n",
      "pt\n",
      "False\n"
     ]
    }
   ],
   "source": [
    "for i,item in enumerate(tweets_data[0:5]):\n",
    "    print(i, '-'*50)\n",
    "    print(item['text'])\n",
    "    print(item['lang'])\n",
    "    print(item['truncated'])"
   ]
  },
  {
   "cell_type": "code",
   "execution_count": 8,
   "metadata": {
    "id": "NPxk1t87RHDk",
    "outputId": "b06d6c31-2dde-4d8b-cb5c-391af2f6b818"
   },
   "outputs": [
    {
     "data": {
      "text/html": [
       "<div>\n",
       "<style scoped>\n",
       "    .dataframe tbody tr th:only-of-type {\n",
       "        vertical-align: middle;\n",
       "    }\n",
       "\n",
       "    .dataframe tbody tr th {\n",
       "        vertical-align: top;\n",
       "    }\n",
       "\n",
       "    .dataframe thead th {\n",
       "        text-align: right;\n",
       "    }\n",
       "</style>\n",
       "<table border=\"1\" class=\"dataframe\">\n",
       "  <thead>\n",
       "    <tr style=\"text-align: right;\">\n",
       "      <th></th>\n",
       "      <th>text</th>\n",
       "      <th>lang</th>\n",
       "      <th>hashtags</th>\n",
       "      <th>user</th>\n",
       "      <th>location</th>\n",
       "      <th>truncated</th>\n",
       "    </tr>\n",
       "  </thead>\n",
       "  <tbody>\n",
       "  </tbody>\n",
       "</table>\n",
       "</div>"
      ],
      "text/plain": [
       "Empty DataFrame\n",
       "Columns: [text, lang, hashtags, user, location, truncated]\n",
       "Index: []"
      ]
     },
     "execution_count": 8,
     "metadata": {},
     "output_type": "execute_result"
    }
   ],
   "source": [
    "tweets = pd.DataFrame(columns=['text','lang','hashtags','user','location','truncated'])\n",
    "tweets"
   ]
  },
  {
   "cell_type": "code",
   "execution_count": 9,
   "metadata": {
    "id": "OGkWQleZRHDl",
    "outputId": "e14db940-ed6b-42b2-ebec-6fbb34f7f16b"
   },
   "outputs": [
    {
     "name": "stdout",
     "output_type": "stream",
     "text": [
      "[0] - TEXT - RT @Anitta: 500 mil mortes... é sobre FORA BOLSONARO sim! A favor da democracia, da economia, da saúde,  da educação, do senso COLETIVO\n",
      "[5000] - TEXT - RT @afroliteraria: SORTEIO RELÂMPAGO 📙✊🏾\n",
      "\n",
      "👉🏾 Quer ganhar um dos cinco livros da imagem?\n",
      "\n",
      "Para concorrer:\n",
      "• Siga o @afroliteraria;\n",
      "• Dê RT (…\n",
      "[10000] - TEXT - @jairbolsonaro @minsaude Não vai falar que essa vacina é melhor que todas as outras hein.\n",
      "[15000] - TEXT - RT @renatobarrosbr: Na cara não Bolsonaro, vai estragar o velório da Grobo 😂😂😂😂😂😂😂 https://t.co/nkcNr9rMX0\n",
      "[20000] - TEXT - RT @Anittinhah: Anitta é tão visionária acabou de ser anunciada no conselho administrativo de um Banco. Todos os sites, mercado financeiro…\n",
      "[25000] - TEXT - RT @Anitta: 500 mil mortes... é sobre FORA BOLSONARO sim! A favor da democracia, da economia, da saúde,  da educação, do senso COLETIVO\n",
      "[30000] - TEXT - RT @jiiminjjkk: lembram quando o yoongi disse no vídeo do bts festa que achava que butter iria ficar por muitas semanas em #1 na hot100???…\n",
      "[35000] - TEXT - RT @Ricardo_Abreu_: Bolsonaro dá ataque e acusa a imprensa pela tragédia no Brasil. São 500 mil mortes. O presidente sentiu a pressão pelo…\n",
      "[40000] - TEXT - RT @juliette: 500 mil mortos no Brasil! Não são apenas números. É uma terrível consequência da negligência da gestão do atual governo Bolso…\n",
      "[45000] - TEXT - Repúdio ao genocídio e apoio ao 19J rompem a bolha e têm adesão de 80% dos internautas https://t.co/UxQPiU2czk\n",
      "[50000] - TEXT - Esse perfil é Phoenix Suns até falar chega. E eu acabei de zicar eles com esse tweet.\n",
      "[55000] - TEXT - RT @CHAN_LIX_: Minsung Auˑ˖໋ᰰ ᭡\n",
      "\n",
      "Minho, o capitão do time de futebol, é desafiado a levar o garoto nerd de sua sala para o baile. Tudo esta…\n",
      "[60000] - TEXT - RT @juliette: 500 mil mortos no Brasil! Não são apenas números. É uma terrível consequência da negligência da gestão do atual governo Bolso…\n",
      "[65000] - TEXT - @Rafaellnacio @netsnopaint ...KD sempre deixou claro que vai se aposentar num Barcelona ou algo do tipo, não vai ser na NBA, muito menos no BKN\n",
      "[70000] - TEXT - RT @ricardolisias: UM JUIZ HOJE PELA PRIMEIRA VEZ NO BRASIL CONDENOU NA ESFERA PENAL UM AGENTE DO ESTADO POR CRIME COMETIDO DURANTE A DITAD…\n",
      "[75000] - TEXT - RT @RenanPeixoto_: Saibam: O presidente Jair Bolsonaro vai aumentar os ataques. \n",
      "\n",
      "A imprensa é o principal alvo. \n",
      "\n",
      "Jair sabe que seu govern…\n",
      "[80000] - TEXT - Kkkkkkkkkkk agora sem caô morar no RJ deveria ser considerado comorbidade\n",
      "[85000] - TEXT - RT @juliette: 500 mil mortos no Brasil! Não são apenas números. É uma terrível consequência da negligência da gestão do atual governo Bolso…\n",
      "[90000] - TEXT - RT @ofertadlivros: SORTEIO RELÂMPAGO\n",
      "#PrimeDay\n",
      "\n",
      "Quer concorrer a um desses livros das imagens? (mais opções na thread)\n",
      "\n",
      "Basta seguir as reg…\n",
      "[95000] - TEXT - RT @juliette: 500 mil mortos no Brasil! Não são apenas números. É uma terrível consequência da negligência da gestão do atual governo Bolso…\n",
      "[100000] - TEXT - RT @sweetmilkcl: O pai da Juliette testou positivo e por conta da VACINA ele está bem e assintomático. O pai dela ja é de idade. Vocês tem…\n",
      "[105000] - TEXT - @Jay97821264 @wellcione @capitulunar Primeiro: vacina não se escolhe. \n",
      "Segundo: a vacina foi feita por profissionais humanos, ela não é capitalista, muito menos devia ser propriedade de uma empresa ou nação.\n",
      "[110000] - TEXT - RT @carteiroreaca: O da CNN também tomou a dele! 😂😂😂 https://t.co/oko2XEmtyJ\n",
      "[115000] - TEXT - RT @dougraz: depressão é o mínimo que se contrai morando no Brasil\n",
      "[120000] - TEXT - RT @juliette: 500 mil mortos no Brasil! Não são apenas números. É uma terrível consequência da negligência da gestão do atual governo Bolso…\n",
      "[125000] - TEXT - RT @marcio37: ACORDA BRASIL!!!!!\n",
      "LULA apenas vence se a Eleição for FRAUDADA!!!!\n",
      "Não Aceitaremos!!!!!!\n",
      "[130000] - TEXT - Você vê o tamanho da merda que a gente tá.\n",
      "Quando percebe que as eleições do ano que vem estão entre Lula e Bolsonaro.\n",
      "Ou seja, a gente vai tmnc de qualquer forma.\n",
      "[135000] - TEXT - RT @CarlaZambelli38: Nossa solidariedade à enfermeira, que sofreu violência e ameaças por parte de criminosos que se manifestavam ontem con…\n",
      "[140000] - TEXT - RT @heroinadolixo: o jeito que o bolsonaro grita com a repórter. é doido pensar que a dilma era tida de escandalosa e de “louca” na época,…\n",
      "[145000] - TEXT - RT @GilDoVigor: Muitos me questionam quando a crise vai acabar e o Brasil voltar a crescer, portanto decidi responder: QUANDO O BOLSONARO E…\n",
      "[150000] - TEXT - Gatilho de festa junina ativado com sucesso 😢 https://t.co/BgYQ0JxR6Z\n",
      "[155000] - TEXT - essa festa virou um enterro\n",
      "[160000] - TEXT - RT @Sonaira_sp: O que aconteceria se apoiadores de Bolsonaro tivessem depredado agências bancárias durante um protesto? Veríamos um bloco d…\n",
      "[165000] - TEXT - RT @flferronato: Legal, mas legal mesmo, é ver o MBL com medo de ir na manifestação contra Bolsonaro e apanhar da esquerda…\n",
      "\n",
      "🤣🤣🤣🤣\n",
      "[170000] - TEXT - RT @_kimnmjnie: Vi a gringa falando que o Brasil tem que bater 370mil streams diárias no Spotify pra entrarmos no top 20.\n",
      "\n",
      "ARMYs que fazem…\n",
      "[175000] - TEXT - RT @taoquei1: Meu Deus!!! Meu Deus!!\n",
      "Quem fala o que quer ouve o que não quer. Isso é a tão contemplada liberdade de expressão.\n",
      "#AGloboNaoP…\n",
      "[180000] - TEXT - Não estuda, não lê  um livro, não tem visão de fururo e acha que o básico ta bom, acha que a vida é  só  festa, e jura ser o sonho de toda sogra kkkkkkkkkkkk  ahta bom\n",
      "[185000] - TEXT - RT @JornalDaCidadeO: “Desde o início o governo demonstrou com atos sua preocupação no combate à pandemia. Não tinha como o governo gastar m…\n",
      "[190000] - TEXT - A única polarização ao Bolsonaro é o Lula mesmo, o restante é mais do mesmo, bolsoguedismo.\n",
      "[195000] - TEXT - RT @yankisner: papo reto: se você apoia Bolsonaro, eu quero que você se foda e deixe de me seguir, de verdade. Não tem justificativas, 500…\n",
      "[200000] - TEXT - RT @PATRlOTAS: Braga Netto: ‘A sociedade pode contar com as Forças Armadas para manter a independência dos Poderes’\n",
      "https://t.co/BPtZCtDfFC\n",
      "[205000] - TEXT - RT @ivioletastore: Nossas canecas personalizadas estão por R$ 35,99 e frete grátis com o cupom na Shopee: https://t.co/qZeCfh7ocU\n",
      "\n",
      "As canec…\n",
      "[210000] - TEXT - Povo de Manaus, 34+ se liguem ai!!! #vivaosus #vacinasim #vacinamanaus\n",
      "[215000] - TEXT - É por estas e por outras que vocês devem pensar antes de ter filhos. Não vá um gajo com problemas de raciocinio vir ao mundo\n",
      "[220000] - TEXT - RT @RevistaISTOE: 🔴EXCLUSIVO: Em maio de 2020, Carlos Wizard apresentava Pazuello em live e dizia ter \"recebido missão de acompanhar contra…\n",
      "[225000] - TEXT - RT @QuebrandoOTabu: Quem diz que gay é escandaloso nunca viu Bolsonaro dando chilique com a imprensa.\n",
      "[230000] - TEXT - Adenor sabe muito de bola\n",
      "[235000] - TEXT - RT @gessicakayane: FORA BOLSONARO PELO AMOR DE DEUS\n",
      "[240000] - TEXT - saudades\n",
      "[245000] - TEXT - Bolsonaro bom é Bolsonaro morto, inclusive os apoiadores\n",
      "[250000] - TEXT - RT @LulaLivre_: Quem foi o segundo pior presidente da história do Brasil?\n",
      "\n",
      "Digo segundo porque o primeiro é sem dúvida Jail Bolsonaro.\n",
      "[255000] - TEXT - Vc sabia? Pedro Bial chamou Bolsonaro de ‘desgovernante’ e ‘acéfalo’ \n",
      " https://t.co/Eko85YTCTu\n",
      "[260000] - TEXT - RT @Anitta: 500 mil mortes... é sobre FORA BOLSONARO sim! A favor da democracia, da economia, da saúde,  da educação, do senso COLETIVO\n",
      "[265000] - TEXT - Bandidagem completa!\n",
      "[270000] - TEXT - só isso e nada mais juro\n",
      "[275000] - TEXT - @TSEjusbr Por que o MEDO em termos voto impresso auditável?\n",
      "O povo não é bobo. Sabemos que o Aécio venceu a ANTA no segundo turno de 2014 e que Bolsonaro venceu em 2018 no primeiro turno. \n",
      "Parem de tentar colocar o MAIOR BANDIDO DO MUNDO de volta na presidência. Ele teve sua chance.\n",
      "[280000] - TEXT - RT @MariliaArraes: URGENTE!\n",
      "Acaba de ser aprovada na Câmara o texto da MP que viabiliza a privatização da Eletrobras! Um retrocesso sem pre…\n",
      "[285000] - TEXT - RT @enmepaixao: Até a Beyoncé que nem é Brasileira se opõe ao governo Bolsonaro e artista aqui brincando de ser apartidário.\n",
      "[290000] - TEXT - RT @jotacorreria: Brasil, uma marca apodrecida.\n",
      "[295000] - TEXT - RT @tamir_rimat: Vamos subir essa hashtag pessoal #BolsonaroDesequilibrado. Simbora, senta o dedo no teclado!!! Bolsonaro sentiu e sentiu f…\n",
      "[300000] - TEXT - É curioso a influência q o flow tem na galera\n",
      "Tem 2 amigos, ditos de centro direita, q eu tentava falar sobre o projeto de Brasil do Ciro, mas os cara só queimavam sem levar pro campo democrático, depois da participação dele no flow eles tão falando de uma possível 3° via em 22\n"
     ]
    },
    {
     "name": "stdout",
     "output_type": "stream",
     "text": [
      "[305000] - TEXT - O Comitê de Proteção aos Jornalistas deu a história - link em inglês - da perseguição da polícia do Rio ao @demori após a denúncia feita por ele em maio https://t.co/szp3XXvw6w\n",
      "[310000] - TEXT - RT @GuilhermeBoulos: A Câmara dos Deputados acaba de aprovar a privatização da Eletrobras. Enquanto o povo morre de Covid, Bolsonaro e Gued…\n",
      "[315000] - TEXT - Cada vez mais eu venho acreditando que o mundo acabou em 2012 e isso aqui é o inferno. Não é possível que se Deus existe ele não tenha um pingo de vergonha de deixar o Bolsonaro respirar.\n",
      "[320000] - TEXT - RT @CNNBrasil: A ministra Rosa Weber decidiu manter a decisão da CPI da Pandemia que determinou a quebra de sigilo da Associação Médicos pe…\n",
      "[325000] - TEXT - O Brasil não é para amadores MESMO\n",
      "[330000] - TEXT - Em defesa da democracia! Cadê a Prova Bolsonaro das fraudes na eleição que você diz ter vencido no primeiro turno? Vai com tudo TSE, pra cima dele!\n",
      "[335000] - TEXT - bolsonaro vc prometeu....\n",
      "[340000] - TEXT - Kkkkkk bem orgânico né\n",
      "[345000] - TEXT - @marcelatropia Cara Marcela. Você sabe por qual motivo o governador Romeu Zema, do seu partido, tem preterido a vacinação em Belo Horizonte em detrimento do interior tirando doses que Belo Horizonte teria direito? O que você tem feito para mudar esta situação?\n",
      "[350000] - TEXT - RT @AleGZahra38: Parabéns, Presidente !\n",
      "👏👏👏\n",
      "#GloboLixo\n"
     ]
    }
   ],
   "source": [
    "for x,item in enumerate(tweets_data):\n",
    "    text = \"\"\n",
    "\n",
    "    try:\n",
    "        if item['truncated']:\n",
    "            text=item['extended_tweet']['full_text']\n",
    "        else:\n",
    "            text=item['text']\n",
    "        tweets.loc[x]=[text,item['lang'],item['entities'],item['user']['screen_name'],item['user']['location'],item['truncated']]\n",
    "        if x % 5000 == 0:\n",
    "            print(\"[{}] - TEXT - {}\".format(x,text))\n",
    "    except:\n",
    "        pass"
   ]
  },
  {
   "cell_type": "code",
   "execution_count": 10,
   "metadata": {
    "id": "91LmEUCdRHDl",
    "outputId": "984f2a82-753c-4815-f14e-5d31d31c6b16"
   },
   "outputs": [
    {
     "data": {
      "text/plain": [
       "354640"
      ]
     },
     "execution_count": 10,
     "metadata": {},
     "output_type": "execute_result"
    }
   ],
   "source": [
    "len(tweets[tweets.lang == 'pt'])"
   ]
  },
  {
   "cell_type": "code",
   "execution_count": 11,
   "metadata": {
    "id": "Tgs54-YtRHDm",
    "outputId": "f166c099-b5ab-4ce0-8d1f-f6144b5383e5"
   },
   "outputs": [
    {
     "data": {
      "text/plain": [
       "'@qqazinha @ivetesangalo Ela sempre foi a artista que eu mais gostei no Brasil, hoje ela é só mais uma, me divirto muito com ela, mas já não é a mesma coisa, a gente vai repensando o quanto a gente pode gostar mesmo dessa galera.'"
      ]
     },
     "execution_count": 11,
     "metadata": {},
     "output_type": "execute_result"
    }
   ],
   "source": [
    "pt_tweets = tweets[tweets.lang == 'pt'].reset_index(drop=True)\n",
    "pt_tweets.loc[19]['text']"
   ]
  },
  {
   "cell_type": "code",
   "execution_count": 12,
   "metadata": {
    "id": "7Ib8X6yPRHDm"
   },
   "outputs": [],
   "source": [
    "def remove_user(text):\n",
    "    text = text.split()\n",
    "    users = []\n",
    "    for item in text:\n",
    "        try:\n",
    "            result = re.search('@(.*)', item)\n",
    "            name = result.group(1)\n",
    "            users.append(\"@\"+name)\n",
    "        except:\n",
    "            pass\n",
    "    text_filtered = [x for x in text if x not in users]\n",
    "    text_filtered = \" \".join(text_filtered)\n",
    "    return text_filtered, users"
   ]
  },
  {
   "cell_type": "code",
   "execution_count": 13,
   "metadata": {
    "id": "Z7w_jJ_ARHDm"
   },
   "outputs": [],
   "source": [
    "def remove_latin_character(text):\n",
    "    text = unicodedata.normalize('NFKD',text).encode('ASCII','ignore').decode(\"utf-8\") # remove latin utf-8 characters\n",
    "    return text"
   ]
  },
  {
   "cell_type": "code",
   "execution_count": 14,
   "metadata": {
    "id": "VbM523-QRHDm"
   },
   "outputs": [],
   "source": [
    "def strip_punctuation(s):\n",
    "    return ''.join(c for c in s if c not in punctuation)"
   ]
  },
  {
   "cell_type": "code",
   "execution_count": 15,
   "metadata": {
    "id": "oaXxNs4ARHDn"
   },
   "outputs": [],
   "source": [
    "def remove_hashtag(text):\n",
    "    text = text.split()\n",
    "    hashtags = []\n",
    "    for item in text:\n",
    "        try:\n",
    "            result = re.search('#(.*)', item)\n",
    "            name = result.group(1)\n",
    "            hashtags.append(\"#\"+name)\n",
    "        except:\n",
    "            pass\n",
    "    text_filtered = [x for x in text if x not in hashtags]\n",
    "    text_filtered = \" \".join(text_filtered)\n",
    "    return text_filtered, hashtags"
   ]
  },
  {
   "cell_type": "code",
   "execution_count": 16,
   "metadata": {
    "id": "FNmNIRcBRHDn"
   },
   "outputs": [],
   "source": [
    "def remove_link(text):\n",
    "    text = text.split()\n",
    "    links = []\n",
    "    for item in text:\n",
    "        try:\n",
    "            result = re.search('http(.*)', item)\n",
    "            name = result.group(1)\n",
    "            links.append(item)\n",
    "        except:\n",
    "            pass\n",
    "    text_filtered = [x for x in text if x not in links]\n",
    "    text_filtered = \" \".join(text_filtered)\n",
    "    return text_filtered, links"
   ]
  },
  {
   "cell_type": "markdown",
   "metadata": {
    "id": "8fpuzfkJRHDn"
   },
   "source": [
    "## Preprocessing Text"
   ]
  },
  {
   "cell_type": "code",
   "execution_count": 17,
   "metadata": {
    "executionInfo": {
     "elapsed": 6,
     "status": "ok",
     "timestamp": 1623183698731,
     "user": {
      "displayName": "Roberto Silveira",
      "photoUrl": "https://lh3.googleusercontent.com/a-/AOh14Gi8YkvUyqADX1t40KmUrwWgWh46L7SRDYMK71Dv=s64",
      "userId": "03790472467946987174"
     },
     "user_tz": 180
    },
    "id": "8goTS573RHDn"
   },
   "outputs": [],
   "source": [
    "def preprocess(text):\n",
    "    # Replace punctuation with tokens so we can use them in our model\n",
    "    text = text.lower()\n",
    "    text = text.replace('\\n', ' ')\n",
    "    # Remove user\n",
    "    text, _ = remove_user(text)\n",
    "    # Remove hashtag\n",
    "    text, _ = remove_hashtag(text)\n",
    "    # Remove links \n",
    "    text, _ = remove_link(text)\n",
    "    # Remove punctuation\n",
    "    text = strip_punctuation(text)\n",
    "    # Remove latin character\n",
    "    text = remove_latin_character(text)\n",
    "    # Removing non ASCII chars    \n",
    "    text = re.sub(r'[^\\x00-\\x7f]',r' ',text)\n",
    "    # Remove \"RT\" string\n",
    "    text = text.replace('rt', ' ')\n",
    "    #text = re.sub(r'[^\\w\\s]','',text) # strip punctuation\n",
    "    text = ' '.join(text.split()) ## replacing extra spaces\n",
    "    text = text.replace(\".\",\"\")\n",
    "    return text"
   ]
  },
  {
   "cell_type": "code",
   "execution_count": 18,
   "metadata": {
    "colab": {
     "base_uri": "https://localhost:8080/",
     "height": 164
    },
    "executionInfo": {
     "elapsed": 319,
     "status": "error",
     "timestamp": 1623183699046,
     "user": {
      "displayName": "Roberto Silveira",
      "photoUrl": "https://lh3.googleusercontent.com/a-/AOh14Gi8YkvUyqADX1t40KmUrwWgWh46L7SRDYMK71Dv=s64",
      "userId": "03790472467946987174"
     },
     "user_tz": 180
    },
    "id": "I4CMO3nPRHDo",
    "outputId": "46881138-2bfd-49f5-efc2-2dfe476ae7f3"
   },
   "outputs": [],
   "source": [
    "pt_tweets['clean_text'] = pt_tweets['text'].apply(lambda x: preprocess(x))"
   ]
  },
  {
   "cell_type": "code",
   "execution_count": 19,
   "metadata": {
    "executionInfo": {
     "elapsed": 12,
     "status": "aborted",
     "timestamp": 1623183699045,
     "user": {
      "displayName": "Roberto Silveira",
      "photoUrl": "https://lh3.googleusercontent.com/a-/AOh14Gi8YkvUyqADX1t40KmUrwWgWh46L7SRDYMK71Dv=s64",
      "userId": "03790472467946987174"
     },
     "user_tz": 180
    },
    "id": "KLZDzyKURHDo"
   },
   "outputs": [
    {
     "data": {
      "text/plain": [
       "'ela sempre foi a a ista que eu mais gostei no brasil hoje ela e so mais uma me divi o muito com ela mas ja nao e a mesma coisa a gente vai repensando o quanto a gente pode gostar mesmo dessa galera'"
      ]
     },
     "execution_count": 19,
     "metadata": {},
     "output_type": "execute_result"
    }
   ],
   "source": [
    "pt_tweets.loc[19]['clean_text']"
   ]
  },
  {
   "cell_type": "code",
   "execution_count": 20,
   "metadata": {
    "executionInfo": {
     "elapsed": 13,
     "status": "aborted",
     "timestamp": 1623183699046,
     "user": {
      "displayName": "Roberto Silveira",
      "photoUrl": "https://lh3.googleusercontent.com/a-/AOh14Gi8YkvUyqADX1t40KmUrwWgWh46L7SRDYMK71Dv=s64",
      "userId": "03790472467946987174"
     },
     "user_tz": 180
    },
    "id": "HCTnqiaQRHDo"
   },
   "outputs": [
    {
     "name": "stdout",
     "output_type": "stream",
     "text": [
      "0 - 500 mil mo es e sobre fora bolsonaro sim a favor da democracia da economia da saude da educacao do senso coletivo\n",
      "1 - muitos me questionam quando a crise vai acabar e o brasil voltar a crescer po anto decidi responder quando o bolsonaro e\n",
      "2 - falar sobre politica nao e dizer o que as pessoas querem ouvir e pedem nao voces acham mesmo que vao derrubar bolsonaro assim ivete apenas reforcou o que o proprio lula fala\n",
      "3 - meu pai tomou a primeira dose da vacina\n",
      "4 - umas criancas meus filhos\n",
      "5 - anitta chama bolsonaro de louco da cabeca e diz ter votado em marina\n",
      "6 - chegada de mais vacinas as vacinas serao destinadas a segunda dose dos grupos prioritarios e a complementacao da vacinacao na populacao ribeirinha\n",
      "7 - e ai vai tomar a escolha e sua\n",
      "8 - campina grande sendo o centro das atencoes do brasil nesse momento\n",
      "9 - donos de navio que bloqueou canal de suez fazem nova proposta de compensacao\n",
      "10 - ele e o maior e ponto\n",
      "11 - tava aqui matutando a gente tem que pagar muito pau pra fernanda lima que foi uma a ista que pagou um preco alto por\n",
      "12 - bolsonaro pistola e melhor jair se acostumando em 2022\n",
      "13 - gol da macedonia anuladoem 20 segundos a bola voltou a rolar em no maximo 1 minuto linha tracada acusando o impedimen\n",
      "14 - vamos desbaratar a teia do eletrogolpe o brasil nao tolera mais aumento na conta de luz e vai peitar a privatizacao da\n",
      "15 - governo chines fez tudo de caso pensado lancou o virus ao mundo e ja tinham se preparado com milhares de mascaras de respiradores e antidoto para aumentar sua economia ainda mais so nao percebe quem nao quer\n",
      "16 - na contramao do mundo brasil supera india e volta a ter maior numero de casos e mo es na semana\n",
      "17 - bolsonaro voce prometeu\n",
      "18 - tem famoso com medo de se posicionar sobre a vacina e a anitta vai la e distribui posicionamento logo apos o anuncio de qu\n",
      "19 - ela sempre foi a a ista que eu mais gostei no brasil hoje ela e so mais uma me divi o muito com ela mas ja nao e a mesma coisa a gente vai repensando o quanto a gente pode gostar mesmo dessa galera\n"
     ]
    }
   ],
   "source": [
    "for i in range(0,20):\n",
    "    print(i,\"-\", pt_tweets['clean_text'][i])"
   ]
  },
  {
   "cell_type": "markdown",
   "metadata": {
    "id": "OCLsxUtzRHDo"
   },
   "source": [
    "## Training W2V"
   ]
  },
  {
   "cell_type": "code",
   "execution_count": 21,
   "metadata": {
    "id": "kt6QVNT1RHDo",
    "outputId": "6582c6e2-be75-4b58-ff04-5190782662e9"
   },
   "outputs": [
    {
     "data": {
      "text/html": [
       "<div>\n",
       "<style scoped>\n",
       "    .dataframe tbody tr th:only-of-type {\n",
       "        vertical-align: middle;\n",
       "    }\n",
       "\n",
       "    .dataframe tbody tr th {\n",
       "        vertical-align: top;\n",
       "    }\n",
       "\n",
       "    .dataframe thead th {\n",
       "        text-align: right;\n",
       "    }\n",
       "</style>\n",
       "<table border=\"1\" class=\"dataframe\">\n",
       "  <thead>\n",
       "    <tr style=\"text-align: right;\">\n",
       "      <th></th>\n",
       "      <th>text</th>\n",
       "      <th>lang</th>\n",
       "      <th>hashtags</th>\n",
       "      <th>user</th>\n",
       "      <th>location</th>\n",
       "      <th>truncated</th>\n",
       "      <th>clean_text</th>\n",
       "    </tr>\n",
       "  </thead>\n",
       "  <tbody>\n",
       "    <tr>\n",
       "      <th>354635</th>\n",
       "      <td>Bolsonaro em entrevista parece todo de milícia...</td>\n",
       "      <td>pt</td>\n",
       "      <td>{'hashtags': [{'text': 'ForaBolsonaro', 'indic...</td>\n",
       "      <td>AraujoRonair</td>\n",
       "      <td>Mato Grosso do Sul, Brasil</td>\n",
       "      <td>False</td>\n",
       "      <td>bolsonaro em entrevista parece todo de milicia...</td>\n",
       "    </tr>\n",
       "    <tr>\n",
       "      <th>354636</th>\n",
       "      <td>RT @enmepaixao: Até a Beyoncé que nem é Brasil...</td>\n",
       "      <td>pt</td>\n",
       "      <td>{'hashtags': [], 'urls': [], 'user_mentions': ...</td>\n",
       "      <td>nilodt</td>\n",
       "      <td>Brasil</td>\n",
       "      <td>False</td>\n",
       "      <td>ate a beyonce que nem e brasileira se opoe ao ...</td>\n",
       "    </tr>\n",
       "    <tr>\n",
       "      <th>354637</th>\n",
       "      <td>@GuilhermeBoulos Fora Bolsonaro e fora vc tmbm...</td>\n",
       "      <td>pt</td>\n",
       "      <td>{'hashtags': [], 'urls': [], 'user_mentions': ...</td>\n",
       "      <td>kyosuketrigger</td>\n",
       "      <td>Japão</td>\n",
       "      <td>False</td>\n",
       "      <td>fora bolsonaro e fora vc tmbmbolsonaro nao e m...</td>\n",
       "    </tr>\n",
       "    <tr>\n",
       "      <th>354638</th>\n",
       "      <td>RT @raphaelfaraco: Vacina da Janssen pode ser ...</td>\n",
       "      <td>pt</td>\n",
       "      <td>{'hashtags': [], 'urls': [], 'user_mentions': ...</td>\n",
       "      <td>debackerthe1</td>\n",
       "      <td>Timbó, Brasil</td>\n",
       "      <td>False</td>\n",
       "      <td>vacina da janssen pode ser a novidade na seman...</td>\n",
       "    </tr>\n",
       "    <tr>\n",
       "      <th>354639</th>\n",
       "      <td>RT @guilher_rod: Fingindo que o Bolsonaro não ...</td>\n",
       "      <td>pt</td>\n",
       "      <td>{'hashtags': [], 'urls': [], 'user_mentions': ...</td>\n",
       "      <td>isaa_alima</td>\n",
       "      <td>None</td>\n",
       "      <td>False</td>\n",
       "      <td>fingindo que o bolsonaro nao existe pra poupar...</td>\n",
       "    </tr>\n",
       "  </tbody>\n",
       "</table>\n",
       "</div>"
      ],
      "text/plain": [
       "                                                     text lang  \\\n",
       "354635  Bolsonaro em entrevista parece todo de milícia...   pt   \n",
       "354636  RT @enmepaixao: Até a Beyoncé que nem é Brasil...   pt   \n",
       "354637  @GuilhermeBoulos Fora Bolsonaro e fora vc tmbm...   pt   \n",
       "354638  RT @raphaelfaraco: Vacina da Janssen pode ser ...   pt   \n",
       "354639  RT @guilher_rod: Fingindo que o Bolsonaro não ...   pt   \n",
       "\n",
       "                                                 hashtags            user  \\\n",
       "354635  {'hashtags': [{'text': 'ForaBolsonaro', 'indic...    AraujoRonair   \n",
       "354636  {'hashtags': [], 'urls': [], 'user_mentions': ...          nilodt   \n",
       "354637  {'hashtags': [], 'urls': [], 'user_mentions': ...  kyosuketrigger   \n",
       "354638  {'hashtags': [], 'urls': [], 'user_mentions': ...    debackerthe1   \n",
       "354639  {'hashtags': [], 'urls': [], 'user_mentions': ...      isaa_alima   \n",
       "\n",
       "                          location truncated  \\\n",
       "354635  Mato Grosso do Sul, Brasil     False   \n",
       "354636                      Brasil     False   \n",
       "354637                       Japão     False   \n",
       "354638               Timbó, Brasil     False   \n",
       "354639                        None     False   \n",
       "\n",
       "                                               clean_text  \n",
       "354635  bolsonaro em entrevista parece todo de milicia...  \n",
       "354636  ate a beyonce que nem e brasileira se opoe ao ...  \n",
       "354637  fora bolsonaro e fora vc tmbmbolsonaro nao e m...  \n",
       "354638  vacina da janssen pode ser a novidade na seman...  \n",
       "354639  fingindo que o bolsonaro nao existe pra poupar...  "
      ]
     },
     "execution_count": 21,
     "metadata": {},
     "output_type": "execute_result"
    }
   ],
   "source": [
    "pt_tweets.tail(5)"
   ]
  },
  {
   "cell_type": "code",
   "execution_count": 22,
   "metadata": {
    "id": "sbF6_LgNRHDp"
   },
   "outputs": [],
   "source": [
    "raw_sentences = list(pt_tweets['clean_text'])"
   ]
  },
  {
   "cell_type": "code",
   "execution_count": 23,
   "metadata": {
    "id": "FNA9I_tjRHDp"
   },
   "outputs": [],
   "source": [
    "sentences = []\n",
    "for sent in raw_sentences:\n",
    "    sentences.append(sent.split())"
   ]
  },
  {
   "cell_type": "code",
   "execution_count": 24,
   "metadata": {
    "id": "e4L4LAx9RHDp",
    "outputId": "5e57a7f8-ac81-4e1f-8d2c-e156d5ffe6d4"
   },
   "outputs": [
    {
     "data": {
      "text/plain": [
       "['fingindo',\n",
       " 'que',\n",
       " 'o',\n",
       " 'bolsonaro',\n",
       " 'nao',\n",
       " 'existe',\n",
       " 'pra',\n",
       " 'poupar',\n",
       " 'minha',\n",
       " 'saude',\n",
       " 'mental']"
      ]
     },
     "execution_count": 24,
     "metadata": {},
     "output_type": "execute_result"
    }
   ],
   "source": [
    "sentences[-1]"
   ]
  },
  {
   "cell_type": "code",
   "execution_count": 25,
   "metadata": {
    "id": "Yffitl7rRHDp"
   },
   "outputs": [],
   "source": [
    "bigram = Phrases(sentences,min_count=1)"
   ]
  },
  {
   "cell_type": "markdown",
   "metadata": {
    "id": "ZDye837cRHDp"
   },
   "source": [
    "## Training Hyperparams"
   ]
  },
  {
   "cell_type": "code",
   "execution_count": 26,
   "metadata": {
    "id": "DqXZM5J-RHDq"
   },
   "outputs": [],
   "source": [
    "embedded_size = 50\n",
    "context_window = 8\n",
    "workers=4\n",
    "min_count = 1"
   ]
  },
  {
   "cell_type": "code",
   "execution_count": 27,
   "metadata": {
    "id": "OqhXdpDARHDq"
   },
   "outputs": [],
   "source": [
    "model = gensim.models.Word2Vec(\n",
    "        sentences = sentences,\n",
    "        #sentences = bigram[sentences],\n",
    "        size = embedded_size, \n",
    "        window = context_window,\n",
    "        workers = workers,\n",
    "        min_count = min_count,\n",
    "        #sample = downsampling,\n",
    "        #hs = 1,\n",
    "        #negative = 0\n",
    ")"
   ]
  },
  {
   "cell_type": "code",
   "execution_count": 28,
   "metadata": {
    "id": "Wsb9n0djRHDq",
    "outputId": "55744de4-6b93-4ed0-d4f0-3c42586c72c4"
   },
   "outputs": [
    {
     "data": {
      "text/plain": [
       "[('vermelho', 0.7961792349815369),\n",
       " ('corinthians', 0.7902805209159851),\n",
       " ('azul', 0.7893305420875549),\n",
       " ('galo', 0.778473973274231),\n",
       " ('flamengo', 0.7753100991249084),\n",
       " ('grenal', 0.7743437886238098),\n",
       " ('time', 0.7689382433891296),\n",
       " ('fluminense', 0.7503691911697388),\n",
       " ('inter', 0.7446019053459167),\n",
       " ('elenco', 0.7192239761352539)]"
      ]
     },
     "execution_count": 28,
     "metadata": {},
     "output_type": "execute_result"
    }
   ],
   "source": [
    "model.wv.most_similar('gremio')"
   ]
  },
  {
   "cell_type": "code",
   "execution_count": 29,
   "metadata": {
    "id": "qB38W3qbRHDr",
    "outputId": "0f3feeb6-16da-481c-c540-bbf0bc107b3d"
   },
   "outputs": [
    {
     "data": {
      "text/plain": [
       "[('corinthians', 0.8267114758491516),\n",
       " ('nonato', 0.8125879168510437),\n",
       " ('time', 0.7991435527801514),\n",
       " ('jogador', 0.7818998694419861),\n",
       " ('bruno', 0.7675203084945679),\n",
       " ('flamengo', 0.7626039981842041),\n",
       " ('gremio', 0.7446019053459167),\n",
       " ('mendez', 0.7437172532081604),\n",
       " ('elenco', 0.7291882038116455),\n",
       " ('zagueiro', 0.72587651014328)]"
      ]
     },
     "execution_count": 29,
     "metadata": {},
     "output_type": "execute_result"
    }
   ],
   "source": [
    "model.wv.most_similar('inter')"
   ]
  },
  {
   "cell_type": "code",
   "execution_count": 30,
   "metadata": {
    "id": "61YGKSnFRHDr",
    "outputId": "f052a8d9-1c28-4e29-d09e-82c820c472b2"
   },
   "outputs": [
    {
     "data": {
      "text/plain": [
       "[('crista', 0.5483700633049011),\n",
       " ('fama', 0.5453993678092957),\n",
       " ('etica', 0.5428282022476196),\n",
       " ('destruindoa', 0.5322074294090271),\n",
       " ('opositor', 0.5180822610855103),\n",
       " ('acomodado', 0.517890453338623),\n",
       " ('classe', 0.5128316879272461),\n",
       " ('marqueteiro', 0.5117645859718323),\n",
       " ('pratica', 0.5102018713951111),\n",
       " ('religiao', 0.5075841546058655)]"
      ]
     },
     "execution_count": 30,
     "metadata": {},
     "output_type": "execute_result"
    }
   ],
   "source": [
    "model.wv.most_similar('politica')"
   ]
  },
  {
   "cell_type": "code",
   "execution_count": 31,
   "metadata": {
    "id": "RfbC9DHfRHDr",
    "outputId": "df305080-c889-499f-8872-d343d7697b27"
   },
   "outputs": [
    {
     "data": {
      "text/plain": [
       "[('tour', 0.7141731977462769),\n",
       " ('amazon', 0.6983145475387573),\n",
       " ('brp4bpnk', 0.6830480694770813),\n",
       " ('reality', 0.6782861351966858),\n",
       " ('academia', 0.6751278638839722),\n",
       " ('design', 0.6532821655273438),\n",
       " ('solteiros', 0.651692807674408),\n",
       " ('lorde', 0.6501853466033936),\n",
       " ('turne', 0.6490862369537354),\n",
       " ('loja', 0.6445334553718567)]"
      ]
     },
     "execution_count": 31,
     "metadata": {},
     "output_type": "execute_result"
    }
   ],
   "source": [
    "model.wv.most_similar('netflix')"
   ]
  },
  {
   "cell_type": "code",
   "execution_count": 32,
   "metadata": {
    "id": "H0ZQROoIRHDr",
    "outputId": "eda17c62-87bc-4248-b15a-1189450ff537"
   },
   "outputs": [],
   "source": [
    "model.wv.save_word2vec_format('vetores.bin', binary=True)"
   ]
  },
  {
   "cell_type": "code",
   "execution_count": 33,
   "metadata": {
    "id": "50MRzxvMRHDr",
    "outputId": "f6eb6c5d-282c-40f1-b344-6e42a9a1104f"
   },
   "outputs": [
    {
     "name": "stdout",
     "output_type": "stream",
     "text": [
      "total 70504\r\n",
      "drwxr-xr-x  8 rsilvei  ADESI\\Domain Users   256B Aug 28 00:39 \u001b[1m\u001b[36m.\u001b[m\u001b[m\r\n",
      "drwxr-xr-x  6 rsilvei  ADESI\\Domain Users   192B Aug 27 13:51 \u001b[1m\u001b[36m..\u001b[m\u001b[m\r\n",
      "drwxr-xr-x  6 rsilvei  ADESI\\Domain Users   192B Aug 27 13:53 \u001b[1m\u001b[36m.ipynb_checkpoints\u001b[m\u001b[m\r\n",
      "-rw-r--r--@ 1 rsilvei  ADESI\\Domain Users    40K Aug 28 00:39 1.word2vec_trainer.ipynb\r\n",
      "-rw-r--r--@ 1 rsilvei  ADESI\\Domain Users   113K Aug 27 13:45 1b.word2vec_loader.ipynb\r\n",
      "-rw-r--r--  1 rsilvei  ADESI\\Domain Users    21M Jun 22 17:20 attention_visualization.ipynb\r\n",
      "-rw-r--r--  1 rsilvei  ADESI\\Domain Users   6.5K Jun 22 17:18 gender_bias.ipynb\r\n",
      "-rw-r--r--  1 rsilvei  ADESI\\Domain Users    14M Aug 28 00:39 vetores.bin\r\n"
     ]
    }
   ],
   "source": [
    "!ls -lah"
   ]
  },
  {
   "cell_type": "code",
   "execution_count": 34,
   "metadata": {
    "id": "bt7-kcJPRHDs",
    "outputId": "4c07fa3b-2b85-423c-a88f-1fe729442d56"
   },
   "outputs": [
    {
     "data": {
      "text/plain": [
       "[('time', 0.8338840007781982),\n",
       " ('corinthians', 0.7872154712677002),\n",
       " ('nonato', 0.7784963846206665),\n",
       " ('flamengo', 0.7773246765136719),\n",
       " ('clube', 0.7724321484565735),\n",
       " ('jogador', 0.7443618178367615),\n",
       " ('elenco', 0.7409229874610901),\n",
       " ('bruno', 0.7107099294662476),\n",
       " ('treinador', 0.7047001123428345),\n",
       " ('rival', 0.7035337090492249)]"
      ]
     },
     "execution_count": 34,
     "metadata": {},
     "output_type": "execute_result"
    }
   ],
   "source": [
    "model.wv.most_similar(positive=['gremio', 'inter'], negative=['cebolinha'])"
   ]
  },
  {
   "cell_type": "code",
   "execution_count": null,
   "metadata": {
    "id": "Nw1rfpEoRHDs"
   },
   "outputs": [],
   "source": []
  }
 ],
 "metadata": {
  "colab": {
   "name": "1.word2vec_trainer.ipynb",
   "provenance": []
  },
  "kernelspec": {
   "display_name": "torch",
   "language": "python",
   "name": "torch"
  },
  "language_info": {
   "codemirror_mode": {
    "name": "ipython",
    "version": 3
   },
   "file_extension": ".py",
   "mimetype": "text/x-python",
   "name": "python",
   "nbconvert_exporter": "python",
   "pygments_lexer": "ipython3",
   "version": "3.7.2"
  }
 },
 "nbformat": 4,
 "nbformat_minor": 1
}
