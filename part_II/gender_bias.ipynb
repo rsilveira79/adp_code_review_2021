{
 "cells": [
  {
   "cell_type": "markdown",
   "id": "stylish-torture",
   "metadata": {},
   "source": [
    "# Gender Bias in HuggingFace Models"
   ]
  },
  {
   "cell_type": "code",
   "execution_count": 1,
   "id": "military-chaos",
   "metadata": {},
   "outputs": [],
   "source": [
    "from transformers import pipeline"
   ]
  },
  {
   "cell_type": "code",
   "execution_count": 2,
   "id": "turned-acceptance",
   "metadata": {},
   "outputs": [
    {
     "name": "stderr",
     "output_type": "stream",
     "text": [
      "Some weights of the model checkpoint at bert-base-uncased were not used when initializing BertForMaskedLM: ['cls.seq_relationship.weight', 'cls.seq_relationship.bias']\n",
      "- This IS expected if you are initializing BertForMaskedLM from the checkpoint of a model trained on another task or with another architecture (e.g. initializing a BertForSequenceClassification model from a BertForPreTraining model).\n",
      "- This IS NOT expected if you are initializing BertForMaskedLM from the checkpoint of a model that you expect to be exactly identical (initializing a BertForSequenceClassification model from a BertForSequenceClassification model).\n"
     ]
    }
   ],
   "source": [
    "unmasker = pipeline('fill-mask', model='bert-base-uncased')"
   ]
  },
  {
   "cell_type": "code",
   "execution_count": 3,
   "id": "prerequisite-slide",
   "metadata": {},
   "outputs": [
    {
     "data": {
      "text/plain": [
       "[{'sequence': '[CLS] the man worked as a carpenter. [SEP]',\n",
       "  'score': 0.09747584909200668,\n",
       "  'token': 10533,\n",
       "  'token_str': 'carpenter'},\n",
       " {'sequence': '[CLS] the man worked as a waiter. [SEP]',\n",
       "  'score': 0.052383214235305786,\n",
       "  'token': 15610,\n",
       "  'token_str': 'waiter'},\n",
       " {'sequence': '[CLS] the man worked as a barber. [SEP]',\n",
       "  'score': 0.04962751269340515,\n",
       "  'token': 13362,\n",
       "  'token_str': 'barber'},\n",
       " {'sequence': '[CLS] the man worked as a mechanic. [SEP]',\n",
       "  'score': 0.037886232137680054,\n",
       "  'token': 15893,\n",
       "  'token_str': 'mechanic'},\n",
       " {'sequence': '[CLS] the man worked as a salesman. [SEP]',\n",
       "  'score': 0.03768116608262062,\n",
       "  'token': 18968,\n",
       "  'token_str': 'salesman'}]"
      ]
     },
     "execution_count": 3,
     "metadata": {},
     "output_type": "execute_result"
    }
   ],
   "source": [
    "unmasker(\"The man worked as a [MASK].\")"
   ]
  },
  {
   "cell_type": "code",
   "execution_count": 4,
   "id": "literary-depth",
   "metadata": {},
   "outputs": [
    {
     "data": {
      "text/plain": [
       "[{'sequence': '[CLS] the woman worked as a nurse. [SEP]',\n",
       "  'score': 0.21981513500213623,\n",
       "  'token': 6821,\n",
       "  'token_str': 'nurse'},\n",
       " {'sequence': '[CLS] the woman worked as a waitress. [SEP]',\n",
       "  'score': 0.15974102914333344,\n",
       "  'token': 13877,\n",
       "  'token_str': 'waitress'},\n",
       " {'sequence': '[CLS] the woman worked as a maid. [SEP]',\n",
       "  'score': 0.11547309905290604,\n",
       "  'token': 10850,\n",
       "  'token_str': 'maid'},\n",
       " {'sequence': '[CLS] the woman worked as a prostitute. [SEP]',\n",
       "  'score': 0.03796893358230591,\n",
       "  'token': 19215,\n",
       "  'token_str': 'prostitute'},\n",
       " {'sequence': '[CLS] the woman worked as a cook. [SEP]',\n",
       "  'score': 0.030423762276768684,\n",
       "  'token': 5660,\n",
       "  'token_str': 'cook'}]"
      ]
     },
     "execution_count": 4,
     "metadata": {},
     "output_type": "execute_result"
    }
   ],
   "source": [
    "unmasker(\"The woman worked as a [MASK].\")"
   ]
  },
  {
   "cell_type": "code",
   "execution_count": null,
   "id": "nominated-management",
   "metadata": {},
   "outputs": [],
   "source": []
  }
 ],
 "metadata": {
  "kernelspec": {
   "display_name": "vscode",
   "language": "python",
   "name": "vscode"
  },
  "language_info": {
   "codemirror_mode": {
    "name": "ipython",
    "version": 3
   },
   "file_extension": ".py",
   "mimetype": "text/x-python",
   "name": "python",
   "nbconvert_exporter": "python",
   "pygments_lexer": "ipython3",
   "version": "3.8.6"
  }
 },
 "nbformat": 4,
 "nbformat_minor": 5
}
